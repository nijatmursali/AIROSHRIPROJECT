{
 "cells": [
  {
   "cell_type": "code",
   "execution_count": 0,
   "outputs": [],
   "source": [],
   "metadata": {
    "collapsed": false,
    "pycharm": {
     "name": "#%% \n",
     "is_executing": false
    }
   }
  },
  {
   "cell_type": "markdown",
   "source": [
    "## IMPORT LIBRARIES"
   ],
   "metadata": {
    "collapsed": false
   }
  },
  {
   "cell_type": "markdown",
   "source": [
    "### FOR SPEECH RECOGNITION"
   ],
   "metadata": {
    "collapsed": false
   }
  },
  {
   "cell_type": "code",
   "execution_count": 1,
   "outputs": [],
   "source": [
    "import speech_recognition as sr\n",
    "import pytz\n",
    "from google.cloud import texttospeech\n",
    "import os\n",
    "from gtts import gTTS\n",
    "import pyttsx3\n",
    "import playsound\n",
    "import subprocess"
   ],
   "metadata": {
    "collapsed": false,
    "pycharm": {
     "name": "#%%\n",
     "is_executing": false
    }
   }
  },
  {
   "cell_type": "markdown",
   "source": [
    "### FOR NLTK DEPENDENCY TREE"
   ],
   "metadata": {
    "collapsed": false,
    "pycharm": {
     "name": "#%% md\n"
    }
   }
  },
  {
   "cell_type": "code",
   "execution_count": 2,
   "outputs": [],
   "source": [
    "import spacy\n",
    "from spacy import displacy\n",
    "from spacy.symbols import NOUN, NUM"
   ],
   "metadata": {
    "collapsed": false,
    "pycharm": {
     "name": "#%%\n",
     "is_executing": false
    }
   }
  },
  {
   "cell_type": "markdown",
   "source": [
    "### FOR GOOGLE CALENDAR"
   ],
   "metadata": {
    "collapsed": false
   }
  },
  {
   "cell_type": "code",
   "execution_count": 3,
   "outputs": [],
   "source": [
    "import datetime\n",
    "import pickle\n",
    "import os.path\n",
    "from googleapiclient.discovery import build\n",
    "from google_auth_oauthlib.flow import InstalledAppFlow\n",
    "from google.auth.transport.requests import Request"
   ],
   "metadata": {
    "collapsed": false,
    "pycharm": {
     "name": "#%%\n",
     "is_executing": false
    }
   }
  },
  {
   "cell_type": "markdown",
   "source": [
    "### GLOBAL VARIABLES"
   ],
   "metadata": {
    "collapsed": false
   }
  },
  {
   "cell_type": "code",
   "execution_count": 4,
   "outputs": [],
   "source": [
    "# If modifying these scopes, delete the file token.pickle.\n",
    "SCOPES = ['https://www.googleapis.com/auth/calendar.readonly']\n",
    "\n",
    "DAYS = [\"monday\", \"tuesday\", \"wednesday\",\"thursday\",\"friday\",\"saturday\",\"sunday\"]\n",
    "MONTHS = ['january', 'february', 'march', 'april', 'may', 'june', 'july', 'august', 'september', 'october', 'november', 'december']\n",
    "DAY_EXTENTIONS = [\"rd\",\"th\",\"st\"]\n",
    "\n",
    "CALENDAR_STRS = [\"what do i have\", \"do i have plans\", \"am i busy\"]\n",
    "NOTE_STRS = [\"make a note\", \"write this down\", \"remember this\"]\n",
    "\n",
    "TALKTOHER = \"hello\""
   ],
   "metadata": {
    "collapsed": false,
    "pycharm": {
     "name": "#%%\n",
     "is_executing": false
    }
   }
  },
  {
   "cell_type": "markdown",
   "source": [
    "### SEE VERSIONS\n",
    "\n",
    "print(sr.__version__)\n",
    "print(spacy.__version__)\n",
    "print(nltk.__version__)"
   ],
   "metadata": {
    "collapsed": false
   }
  },
  {
   "cell_type": "markdown",
   "source": [
    "### GETTING SPEECH"
   ],
   "metadata": {
    "collapsed": false
   }
  },
  {
   "cell_type": "code",
   "execution_count": 5,
   "outputs": [],
   "source": [
    "def speak(text):\n",
    "    engine = pyttsx3.init()\n",
    "    rate = engine.getProperty('rate')\n",
    "    engine.setProperty('rate', rate - 50)\n",
    "    engine.setProperty(\"volume\", 1.0)\n",
    "    engine.say(text)\n",
    "    engine.runAndWait()"
   ],
   "metadata": {
    "collapsed": false,
    "pycharm": {
     "name": "#%%\n",
     "is_executing": false
    }
   }
  },
  {
   "cell_type": "markdown",
   "source": [
    "### GETTING AUDIO"
   ],
   "metadata": {
    "collapsed": false,
    "pycharm": {
     "name": "#%% md\n"
    }
   }
  },
  {
   "cell_type": "code",
   "execution_count": 6,
   "outputs": [],
   "source": [
    "def get_audio():\n",
    "    r = sr.Recognizer()\n",
    "    with sr.Microphone() as source:\n",
    "        audio = r.listen(source)\n",
    "        said = \"\"\n",
    "        try:\n",
    "            said = r.recognize_google(audio)\n",
    "            print(said)\n",
    "        except Exception as e:\n",
    "            print(\"Exception: \" + str(e))\n",
    "            speak(\"Sorry, I could not understand what you said.\")\n",
    "\n",
    "        return said.lower()"
   ],
   "metadata": {
    "collapsed": false,
    "pycharm": {
     "name": "#%%\n",
     "is_executing": false
    }
   }
  },
  {
   "cell_type": "markdown",
   "source": [
    "### CHECKING SENTENCE"
   ],
   "metadata": {
    "collapsed": false,
    "pycharm": {
     "name": "#%% md\n"
    }
   }
  },
  {
   "cell_type": "code",
   "execution_count": 7,
   "outputs": [],
   "source": [
    "def check(sentence, words):\n",
    "    res = [all([k in s for k in words]) for s in sentence]\n",
    "    return [sentence[i] for i in range(0, len(res)) if res[i]]"
   ],
   "metadata": {
    "collapsed": false,
    "pycharm": {
     "name": "#%% \n",
     "is_executing": false
    }
   }
  },
  {
   "cell_type": "markdown",
   "source": [
    "### GOOGLE AUTHENTICATION"
   ],
   "metadata": {
    "collapsed": false,
    "pycharm": {
     "name": "#%% md\n",
     "is_executing": true
    }
   }
  },
  {
   "cell_type": "code",
   "execution_count": null,
   "outputs": [],
   "source": [
    "def googleAuthentication():\n",
    "    creds = None\n",
    "\n",
    "    if os.path.exists('token.pickle'):\n",
    "        with open('token.pickle', 'rb') as token:\n",
    "            creds = pickle.load(token)\n",
    "    # If there are no (valid) credentials available, let the user log in.\n",
    "    if not creds or not creds.valid:\n",
    "        if creds and creds.expired and creds.refresh_token:\n",
    "            creds.refresh(Request())\n",
    "        else:\n",
    "            flow = InstalledAppFlow.from_client_secrets_file(\n",
    "                'api/credentials.json', SCOPES)\n",
    "            creds = flow.run_local_server(port=0)\n",
    "        # Save the credentials for the next run\n",
    "        with open('token.pickle', 'wb') as token:\n",
    "            pickle.dump(creds, token)\n",
    "\n",
    "    service = build('calendar', 'v3', credentials=creds)\n",
    "\n",
    "    return service"
   ],
   "metadata": {
    "collapsed": false,
    "pycharm": {
     "name": "#%%\n",
     "is_executing": true
    }
   }
  },
  {
   "cell_type": "markdown",
   "source": [
    "### GETTING EVENTS FROM GOOGLE"
   ],
   "metadata": {
    "collapsed": false,
    "pycharm": {
     "name": "#%% md\n"
    }
   }
  },
  {
   "cell_type": "code",
   "execution_count": null,
   "outputs": [],
   "source": [
    "def getEventsfromGoogle(day, service): #n is amount of events\n",
    "    # Call the Calendar API\n",
    "\n",
    "    date = datetime.datetime.combine(day, datetime.datetime.min.time())\n",
    "    end_date = datetime.datetime.combine(day, datetime.datetime.max.time())\n",
    "    utc = pytz.UTC\n",
    "    date = date.astimezone(utc)\n",
    "    end_date = end_date.astimezone(utc)\n",
    "    events_result = service.events().list(calendarId ='primary', timeMin = date.isoformat(), timeMax = end_date.isoformat(),\n",
    "                                        maxResults=10, singleEvents=True,\n",
    "                                        orderBy='startTime').execute()\n",
    "    events = events_result.get('items', [])\n",
    "\n",
    "    if not events:\n",
    "        speak('No upcoming events found.')\n",
    "    else:\n",
    "        speak(f\"You have {len(events)} event on this day.\")\n",
    "        for event in events:\n",
    "            start = event['start'].get('dateTime', event['start'].get('date'))\n",
    "            print(start, event['summary'])\n",
    "            start_time = str(start.split(\"T\")[1].split(\"-\")[0])\n",
    "            if int(start_time.split(\":\")[0]) < 12:\n",
    "                start_time = start_time + \"am\"\n",
    "            else:\n",
    "                start_time = str(int(start_time.split(\":\")[0]) - 12) + start_time.split(\":\")[1]\n",
    "                start_time = start_time + \"pm\"\n",
    "\n",
    "            speak(event[\"summary\"] + \" at \" + start_time)"
   ],
   "metadata": {
    "collapsed": false,
    "pycharm": {
     "name": "#%% \n",
     "is_executing": true
    }
   }
  },
  {
   "cell_type": "markdown",
   "source": [
    "### GETTING DATES"
   ],
   "metadata": {
    "collapsed": false,
    "pycharm": {
     "name": "#%% md\n"
    }
   }
  },
  {
   "cell_type": "code",
   "execution_count": null,
   "outputs": [],
   "source": [
    "def get_date(text):\n",
    "    text = text.lower()\n",
    "    today = datetime.date.today()\n",
    "\n",
    "    if text.count(\"today\") > 0:\n",
    "        return today\n",
    "\n",
    "    day = -1\n",
    "    day_of_week = -1\n",
    "    month = -1\n",
    "    year = today.year\n",
    "\n",
    "    for word in text.split():\n",
    "        if word in MONTHS:\n",
    "            month = MONTHS.index(word) + 1\n",
    "        elif word in DAYS:\n",
    "            day_of_week = DAYS.index(word)\n",
    "        elif word.isdigit():\n",
    "            day = int(word)\n",
    "        else:\n",
    "            for ext in DAY_EXTENTIONS:\n",
    "                found = word.find(ext)\n",
    "                if found > 0:\n",
    "                    try:\n",
    "                        day = int(word[:found])\n",
    "                    except:\n",
    "                        pass\n",
    "    if month < today.month and month != -1:\n",
    "        year = year + 1\n",
    "    if day < today.day and month == -1 and day != -1:\n",
    "        month = month + 1\n",
    "    if month == -1 and day == -1 and day_of_week != -1:\n",
    "        current_day_of_week = today.weekday()\n",
    "        dif = day_of_week - current_day_of_week\n",
    "\n",
    "        if dif < 0:\n",
    "            dif += 7\n",
    "            if text.count(\"next\") >= 1:\n",
    "                dif += 7\n",
    "        return today + datetime.timedelta(dif)\n",
    "    if month == -1 or day == -1:\n",
    "        return None\n",
    "\n",
    "    return datetime.date(month = month, day = day, year = year)"
   ],
   "metadata": {
    "collapsed": false,
    "pycharm": {
     "name": "#%% \n",
     "is_executing": true
    }
   }
  },
  {
   "cell_type": "markdown",
   "source": [
    "### WRITING INTO NOTEPAD/CALENDAR"
   ],
   "metadata": {
    "collapsed": false,
    "pycharm": {
     "name": "#%% md\n"
    }
   }
  },
  {
   "cell_type": "code",
   "execution_count": null,
   "outputs": [],
   "source": [
    "def note(text):\n",
    "    date = datetime.datetime.now()\n",
    "    file_name = str(date).replace(\":\", \"-\") + \"-note.txt\"\n",
    "    with open(file_name, \"w\") as f:\n",
    "        f.write(text)\n",
    "\n",
    "    subprocess.Popen([\"notepad.exe\", file_name])\n",
    "    "
   ],
   "metadata": {
    "collapsed": false,
    "pycharm": {
     "name": "#%% \n",
     "is_executing": true
    }
   }
  },
  {
   "cell_type": "markdown",
   "source": [
    "### START GOOGLE AUTHENTICATION"
   ],
   "metadata": {
    "collapsed": false,
    "pycharm": {
     "name": "#%% md\n"
    }
   }
  },
  {
   "cell_type": "code",
   "execution_count": null,
   "outputs": [],
   "source": [
    "SERVICE = googleAuthentication()"
   ],
   "metadata": {
    "collapsed": false,
    "pycharm": {
     "name": "#%% \n",
     "is_executing": true
    }
   }
  },
  {
   "cell_type": "code",
   "source": [
    "### START THE PROCESS"
   ],
   "metadata": {
    "collapsed": false,
    "pycharm": {
     "name": "#%% md \n",
     "is_executing": true
    }
   },
   "execution_count": null,
   "outputs": []
  },
  {
   "cell_type": "code",
   "execution_count": null,
   "outputs": [
    {
     "name": "stdout",
     "text": [
      "hello there\n"
     ],
     "output_type": "stream"
    }
   ],
   "source": [
    "while True:\n",
    "    text = get_audio()\n",
    "\n",
    "    if text.count(TALKTOHER) > 0:\n",
    "        speak(\"Hello, how may I help you today?\")\n",
    "        text = get_audio()\n",
    "\n",
    "        for phrase in CALENDAR_STRS:\n",
    "            if phrase in text.lower():\n",
    "                date = get_date(text)\n",
    "                if date:\n",
    "                    getEventsfromGoogle(get_date(text), SERVICE)\n",
    "                else:\n",
    "                    speak(\"Sorry, I didn't understand what you have said. Could you please repeat?\")\n",
    "\n",
    "        for phrase in NOTE_STRS:\n",
    "            if phrase in NOTE_STRS:\n",
    "                if phrase in text.lower():\n",
    "                    speak(\"What would you like me to write down?\")\n",
    "                    note_text = get_audio().lower()\n",
    "                    note(note_text)\n",
    "                    speak(\"I have made a note of that.\")\n",
    "\n",
    "        if \"name\" in text.split():\n",
    "            speak(\"My name is Alice and I'm here to help you with booking.\")\n",
    "\n",
    "\n",
    "        if \"Malta\" in text.split():\n",
    "            speak(\"Yes. She absolutely needs to sleep now. Nijat cares for her.\")\n"
   ],
   "metadata": {
    "collapsed": false,
    "pycharm": {
     "name": "#%% \n",
     "is_executing": true
    }
   }
  }
 ],
 "metadata": {
  "kernelspec": {
   "display_name": "Python 3",
   "language": "python",
   "name": "python3"
  },
  "language_info": {
   "codemirror_mode": {
    "name": "ipython",
    "version": 2
   },
   "file_extension": ".py",
   "mimetype": "text/x-python",
   "name": "python",
   "nbconvert_exporter": "python",
   "pygments_lexer": "ipython2",
   "version": "2.7.6"
  },
  "pycharm": {
   "stem_cell": {
    "cell_type": "raw",
    "source": [],
    "metadata": {
     "collapsed": false
    }
   }
  }
 },
 "nbformat": 4,
 "nbformat_minor": 0
}